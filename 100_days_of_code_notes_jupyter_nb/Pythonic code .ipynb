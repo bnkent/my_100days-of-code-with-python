{
 "cells": [
  {
   "cell_type": "code",
   "execution_count": null,
   "metadata": {},
   "outputs": [],
   "source": [
    "# Exercises to show writing clear and concise code or pythonic code\n"
   ]
  },
  {
   "cell_type": "code",
   "execution_count": 1,
   "metadata": {},
   "outputs": [
    {
     "name": "stdout",
     "output_type": "stream",
     "text": [
      "0\n",
      "1\n",
      "2\n",
      "3\n",
      "4\n",
      "5\n"
     ]
    }
   ],
   "source": [
    "# Looping over a range of numbers\n",
    "for i in range(6):\n",
    "    print(i)"
   ]
  },
  {
   "cell_type": "code",
   "execution_count": 2,
   "metadata": {},
   "outputs": [
    {
     "name": "stdout",
     "output_type": "stream",
     "text": [
      "White\n",
      "Yellow\n",
      "Blue\n",
      "Block\n",
      "Orange\n"
     ]
    }
   ],
   "source": [
    "# Looping over a collection\n",
    "colors = 'White Yellow Blue Block Orange'.split()\n",
    "for color in colors:\n",
    "    print(color)"
   ]
  },
  {
   "cell_type": "code",
   "execution_count": 4,
   "metadata": {},
   "outputs": [
    {
     "name": "stdout",
     "output_type": "stream",
     "text": [
      "Orange\n",
      "Block\n",
      "Blue\n",
      "Yellow\n",
      "White\n"
     ]
    }
   ],
   "source": [
    "# Looping over a colleciton backwards\n",
    "for color in reversed(colors):\n",
    "    print(color)"
   ]
  },
  {
   "cell_type": "code",
   "execution_count": 6,
   "metadata": {},
   "outputs": [
    {
     "name": "stdout",
     "output_type": "stream",
     "text": [
      "Anantha --> White\n",
      "Avanthika --> Pink\n",
      "Athira --> Greeen\n",
      "Vipin --> Black\n"
     ]
    }
   ],
   "source": [
    "# Looping over two collections\n",
    "names = 'Anantha Avanthika Athira Vipin'.split()\n",
    "colors = 'White Pink Greeen Black'.split()\n",
    "for name, color in zip(names, colors):\n",
    "    print(f'{name} --> {color}')\n"
   ]
  },
  {
   "cell_type": "code",
   "execution_count": 10,
   "metadata": {},
   "outputs": [
    {
     "name": "stdout",
     "output_type": "stream",
     "text": [
      "Red\n",
      "Pink\n",
      "White\n",
      "Yellow\n"
     ]
    }
   ],
   "source": [
    "# Looping in sorted order (sorting is based on the lenght of the items)\n",
    "colors = 'White Yellow Pink Red'.split()\n",
    "for color in sorted(colors, key=len):\n",
    "    print(color)"
   ]
  },
  {
   "cell_type": "code",
   "execution_count": null,
   "metadata": {},
   "outputs": [],
   "source": []
  },
  {
   "cell_type": "code",
   "execution_count": null,
   "metadata": {},
   "outputs": [],
   "source": []
  }
 ],
 "metadata": {
  "kernelspec": {
   "display_name": "Python 3",
   "language": "python",
   "name": "python3"
  },
  "language_info": {
   "codemirror_mode": {
    "name": "ipython",
    "version": 3
   },
   "file_extension": ".py",
   "mimetype": "text/x-python",
   "name": "python",
   "nbconvert_exporter": "python",
   "pygments_lexer": "ipython3",
   "version": "3.6.5"
  }
 },
 "nbformat": 4,
 "nbformat_minor": 2
}
