{
 "cells": [
  {
   "cell_type": "code",
   "execution_count": null,
   "metadata": {},
   "outputs": [],
   "source": [
    "# Exercises to show writing clear and concise code or pythonic code\n"
   ]
  },
  {
   "cell_type": "code",
   "execution_count": 1,
   "metadata": {},
   "outputs": [
    {
     "name": "stdout",
     "output_type": "stream",
     "text": [
      "0\n",
      "1\n",
      "2\n",
      "3\n",
      "4\n",
      "5\n"
     ]
    }
   ],
   "source": [
    "# Looping over a range of numbers\n",
    "for i in range(6):\n",
    "    print(i)"
   ]
  },
  {
   "cell_type": "code",
   "execution_count": 2,
   "metadata": {},
   "outputs": [
    {
     "name": "stdout",
     "output_type": "stream",
     "text": [
      "White\n",
      "Yellow\n",
      "Blue\n",
      "Block\n",
      "Orange\n"
     ]
    }
   ],
   "source": [
    "# Looping over a collection\n",
    "colors = 'White Yellow Blue Block Orange'.split()\n",
    "for color in colors:\n",
    "    print(color)"
   ]
  },
  {
   "cell_type": "code",
   "execution_count": 4,
   "metadata": {},
   "outputs": [
    {
     "name": "stdout",
     "output_type": "stream",
     "text": [
      "Orange\n",
      "Block\n",
      "Blue\n",
      "Yellow\n",
      "White\n"
     ]
    }
   ],
   "source": [
    "# Looping over a colleciton backwards\n",
    "for color in reversed(colors):\n",
    "    print(color)"
   ]
  },
  {
   "cell_type": "code",
   "execution_count": 6,
   "metadata": {},
   "outputs": [
    {
     "name": "stdout",
     "output_type": "stream",
     "text": [
      "Anantha --> White\n",
      "Avanthika --> Pink\n",
      "Athira --> Greeen\n",
      "Vipin --> Black\n"
     ]
    }
   ],
   "source": [
    "# Looping over two collections\n",
    "names = 'Anantha Avanthika Athira Vipin'.split()\n",
    "colors = 'White Pink Greeen Black'.split()\n",
    "for name, color in zip(names, colors):\n",
    "    print(f'{name} --> {color}')\n"
   ]
  },
  {
   "cell_type": "code",
   "execution_count": 10,
   "metadata": {},
   "outputs": [
    {
     "name": "stdout",
     "output_type": "stream",
     "text": [
      "Red\n",
      "Pink\n",
      "White\n",
      "Yellow\n"
     ]
    }
   ],
   "source": [
    "# Looping in sorted order (sorting is based on the lenght of the items)\n",
    "colors = 'White Yellow Pink Red'.split()\n",
    "for color in sorted(colors, key=len):\n",
    "    print(color)"
   ]
  },
  {
   "cell_type": "markdown",
   "metadata": {},
   "source": [
    "# Date: 02/06/2018\n",
    "# One of the hacker rank problem (level: easy) about Inheritance\n",
    "\"\"\"\n",
    "Objective \n",
    "Today, we're delving into Inheritance. Check out the attached tutorial for learning materials and an instructional video!\n",
    "\n",
    "Task \n",
    "You are given two classes, Person and Student, where Person is the base class and Student is the derived class. Completed code for Person and a declaration for Student are provided for you in the editor. Observe that Student inherits all the properties of Person.\n",
    "\n",
    "Complete the Student class by writing the following:\n",
    "\n",
    "A Student class constructor, which has  parameters:\n",
    "A string, .\n",
    "A string, .\n",
    "An integer, .\n",
    "An integer array (or vector) of test scores, .\n",
    "A char calculate() method that calculates a Student object's average and returns the grade character representative of their calculated average:\n",
    "Grading.png\n",
    "\n",
    "Input Format\n",
    "\n",
    "The locked stub code in your editor calls your Student class constructor and passes it the necessary arguments. It also calls the calculate method (which takes no arguments).\n",
    "\n",
    "You are not responsible for reading the following input from stdin: \n",
    "The first line contains , , and , respectively. The second line contains the number of test scores. The third line of space-separated integers describes .\n",
    "\n",
    "Constraints\n",
    "\n",
    "Output Format\n",
    "\n",
    "This is handled by the locked stub code in your editor. Your output will be correct if your Student class constructor and calculate() method are properly implemented.\n",
    "\n",
    "Sample Input\n",
    "\n",
    "Heraldo Memelli 8135627\n",
    "2\n",
    "100 80\n",
    "Sample Output\n",
    "\n",
    " Name: Memelli, Heraldo\n",
    " ID: 8135627\n",
    " Grade: O\n",
    "Explanation\n",
    "\n",
    "This student had  scores to average:  and . The student's average grade is . An average grade of  corresponds to the letter grade , so our calculate() method should return the character'O'.\n",
    "https://www.hackerrank.com/challenges/30-inheritance/problem\n",
    "\"\"\""
   ]
  },
  {
<<<<<<< HEAD
   "cell_type": "code",
   "execution_count": 27,
   "metadata": {},
   "outputs": [],
   "source": [
    "from statistics import mean\n",
    "\n",
    "class Student(Person):\n",
    "    #   Class Constructor\n",
    "    #   \n",
    "    #   Parameters:\n",
    "    #   firstName - A string denoting the Person's first name.\n",
    "    #   lastName - A string denoting the Person's last name.\n",
    "    #   id - An integer denoting the Person's ID number.\n",
    "    #   scores - An array of integers denoting the Person's test scores.\n",
    "    #\n",
    "    # Write your constructor here\n",
    "    def __init__(self, firstName: str, lastName: str, idNumber: int, scores: list):\n",
    "        Person.__init__(self, firstName, lastName,idNumber)\n",
    "        self.firstName = firstName\n",
    "        self.lastName = lastName\n",
    "        self.idNumber = idNumber\n",
    "        self.scores = scores\n",
    "    \n",
    "    #   Function Name: calculate\n",
    "    #   Return: A character denoting the grade.\n",
    "    #\n",
    "    # Write your function here\n",
    "    def calculate(self):\n",
    "        avg = int(mean(self.scores))\n",
    "        \n",
    "        if avg in range(90, 101):\n",
    "            return 'O'\n",
    "        if avg in range(80, 90):\n",
    "            return 'E'\n",
    "        if avg in range(70, 80):\n",
    "            return 'A'\n",
    "        if avg in range(55, 70):\n",
    "            return 'P'\n",
    "        if avg in range(40, 55):\n",
    "            return 'D'\n",
    "        if avg < 40:\n",
    "            return 'T'"
   ]
  },
  {
   "cell_type": "markdown",
   "metadata": {},
   "source": [
    "Statement\n",
    "The text is given in a single line. For each word of the text count the number of its occurrences before it.\n",
    "A word is a sequence of non-whitespace characters. Two consecutive words are separated by one or more spaces. Punctiation marks are a part of a word, by this definition.\n",
    "Link: https://snakify.org/lessons/dictionaries_dicts/problems/number_of_occurrences_before/"
   ]
  },
  {
   "cell_type": "code",
   "execution_count": 55,
   "metadata": {},
   "outputs": [
    {
     "name": "stdout",
     "output_type": "stream",
     "text": [
      "one two three one tho two th\n",
      "0 0 0 1 0 1 0 "
     ]
    }
   ],
   "source": [
    "# First draft\n",
    "words_dict = dict()\n",
    "words = input().split()\n",
    "\n",
    "for word in words:\n",
    "    if word in words_dict:\n",
    "        words_dict[word] += 1\n",
    "    else:\n",
    "        words_dict.setdefault(word, 0)\n",
    "    \n",
    "    print(words_dict.get(word), end=' ')\n",
    "\n"
   ]
  },
  {
   "cell_type": "code",
   "execution_count": 58,
   "metadata": {},
   "outputs": [
    {
     "name": "stdout",
     "output_type": "stream",
     "text": [
      "one two three one tho two th\n",
      "0 0 0 1 0 1 0 "
     ]
    }
   ],
   "source": [
    "# Second one and better\n",
    "counter = {}\n",
    "for word in input().split():\n",
    "    counter[word] = counter.get(word, 0) + 1\n",
    "    print(counter[word] - 1, end=' ')\n"
   ]
  },
  {
   "cell_type": "markdown",
   "metadata": {},
   "source": [
    "A good problem on dictionaries\n",
    "https://snakify.org/lessons/dictionaries_dicts/problems/frequency_analysis/"
   ]
  },
  {
=======
>>>>>>> 8055d0d843ae5fd548570150fcee1b982f27c2a9
   "cell_type": "code",
   "execution_count": 27,
   "metadata": {},
   "outputs": [],
   "source": [
<<<<<<< HEAD
    "# First iteration\n",
    "n = int(input())\n",
    "\n",
    "words = {}\n",
    "for _ in range(n):\n",
    "    for word in input().split():\n",
    "        words[word] = words.get(word, 0) + 1\n",
    "        \n",
    "freqs = [(-count, word) for word, count in words.items()]\n",
    "for c, w in sorted(freqs):\n",
    "    print(w)"
=======
    "from statistics import mean\n",
    "\n",
    "class Student(Person):\n",
    "    #   Class Constructor\n",
    "    #   \n",
    "    #   Parameters:\n",
    "    #   firstName - A string denoting the Person's first name.\n",
    "    #   lastName - A string denoting the Person's last name.\n",
    "    #   id - An integer denoting the Person's ID number.\n",
    "    #   scores - An array of integers denoting the Person's test scores.\n",
    "    #\n",
    "    # Write your constructor here\n",
    "    def __init__(self, firstName: str, lastName: str, idNumber: int, scores: list):\n",
    "        Person.__init__(self, firstName, lastName,idNumber)\n",
    "        self.firstName = firstName\n",
    "        self.lastName = lastName\n",
    "        self.idNumber = idNumber\n",
    "        self.scores = scores\n",
    "    \n",
    "    #   Function Name: calculate\n",
    "    #   Return: A character denoting the grade.\n",
    "    #\n",
    "    # Write your function here\n",
    "    def calculate(self):\n",
    "        avg = int(mean(self.scores))\n",
    "        \n",
    "        if avg in range(90, 101):\n",
    "            return 'O'\n",
    "        if avg in range(80, 90):\n",
    "            return 'E'\n",
    "        if avg in range(70, 80):\n",
    "            return 'A'\n",
    "        if avg in range(55, 70):\n",
    "            return 'P'\n",
    "        if avg in range(40, 55):\n",
    "            return 'D'\n",
    "        if avg < 40:\n",
    "            return 'T'"
   ]
  },
  {
   "cell_type": "markdown",
   "metadata": {},
   "source": [
    "Statement\n",
    "The text is given in a single line. For each word of the text count the number of its occurrences before it.\n",
    "A word is a sequence of non-whitespace characters. Two consecutive words are separated by one or more spaces. Punctiation marks are a part of a word, by this definition.\n",
    "Link: https://snakify.org/lessons/dictionaries_dicts/problems/number_of_occurrences_before/"
>>>>>>> 8055d0d843ae5fd548570150fcee1b982f27c2a9
   ]
  },
  {
   "cell_type": "code",
<<<<<<< HEAD
   "execution_count": null,
   "metadata": {},
   "outputs": [],
   "source": [
    "# Second one using Counter\n",
    "from collections import Counter\n",
    "\n",
    "n = int(input())\n",
    "\n",
    "words = []\n",
    "for _ in range(n):\n",
    "    words.extend(input().split())\n",
    "\n",
    "freqs = Counter(words)\n",
    "pairs = [(-count, word) for word, count in freqs.most_common()]\n",
    "for c, w in sorted(pairs):\n",
    "    print(w)"
=======
   "execution_count": 55,
   "metadata": {},
   "outputs": [
    {
     "name": "stdout",
     "output_type": "stream",
     "text": [
      "one two three one tho two th\n",
      "0 0 0 1 0 1 0 "
     ]
    }
   ],
   "source": [
    "# First draft\n",
    "words_dict = dict()\n",
    "words = input().split()\n",
    "\n",
    "for word in words:\n",
    "    if word in words_dict:\n",
    "        words_dict[word] += 1\n",
    "    else:\n",
    "        words_dict.setdefault(word, 0)\n",
    "    \n",
    "    print(words_dict.get(word), end=' ')\n",
    "\n"
>>>>>>> 8055d0d843ae5fd548570150fcee1b982f27c2a9
   ]
  },
  {
   "cell_type": "code",
<<<<<<< HEAD
   "execution_count": null,
   "metadata": {},
   "outputs": [],
   "source": [
    "'apple - malum, pomum, popula'.split(',')\n",
    "print(e)\n"
=======
   "execution_count": 58,
   "metadata": {},
   "outputs": [
    {
     "name": "stdout",
     "output_type": "stream",
     "text": [
      "one two three one tho two th\n",
      "0 0 0 1 0 1 0 "
     ]
    }
   ],
   "source": [
    "# Second one and better\n",
    "counter = {}\n",
    "for word in input().split():\n",
    "    counter[word] = counter.get(word, 0) + 1\n",
    "    print(counter[word] - 1, end=' ')\n"
>>>>>>> 8055d0d843ae5fd548570150fcee1b982f27c2a9
   ]
  },
  {
   "cell_type": "code",
   "execution_count": null,
   "metadata": {},
   "outputs": [],
   "source": []
  }
 ],
 "metadata": {
  "kernelspec": {
   "display_name": "Python 3",
   "language": "python",
   "name": "python3"
  },
  "language_info": {
   "codemirror_mode": {
    "name": "ipython",
    "version": 3
   },
   "file_extension": ".py",
   "mimetype": "text/x-python",
   "name": "python",
   "nbconvert_exporter": "python",
   "pygments_lexer": "ipython3",
   "version": "3.6.4"
  }
 },
 "nbformat": 4,
 "nbformat_minor": 2
}
